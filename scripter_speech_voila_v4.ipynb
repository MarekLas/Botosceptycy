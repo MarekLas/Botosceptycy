{
 "cells": [
  {
   "cell_type": "code",
   "execution_count": 36,
   "id": "91885be1-218d-4673-a5d9-ac8657323479",
   "metadata": {
    "tags": []
   },
   "outputs": [],
   "source": [
    "import ipywidgets as wg\n",
    "from IPython.display import display, IFrame\n",
    "\n",
    "import numpy as np\n",
    "import pandas as pd\n",
    "import matplotlib.pyplot as plt\n",
    "import seaborn as sns\n",
    "import voila\n",
    "from ydata_profiling import ProfileReport"
   ]
  },
  {
   "cell_type": "code",
   "execution_count": 2,
   "id": "2e36c300-6ad0-4f7f-8410-21b18d3697d6",
   "metadata": {
    "tags": []
   },
   "outputs": [],
   "source": [
    "# Zaczyytanie danych\n",
    "df1 = pd.read_csv(r'c:\\Users\\pi35877\\Notebooks\\botosceptycy\\wynik\\Kategorie_18-31_styczen_2023.csv', encoding='utf-8', low_memory=False, sep=';')\n",
    "df2 = pd.read_csv(r'c:\\Users\\pi35877\\Notebooks\\botosceptycy\\wynik\\Kategorie_01-28_luty_2023.csv', encoding='utf-8', low_memory=False, sep=';')\n",
    "df3 = pd.read_csv(r'c:\\Users\\pi35877\\Notebooks\\botosceptycy\\wynik\\Kategorie_01-31_marzec_2023.csv', encoding='utf-8', low_memory=False, sep=';')\n",
    "df4 = pd.read_csv(r'c:\\Users\\pi35877\\Notebooks\\botosceptycy\\wynik\\Kategorie_01-20_kwiecień_2023.csv', encoding='utf-8', low_memory=False, sep=';')"
   ]
  },
  {
   "cell_type": "code",
   "execution_count": 3,
   "id": "830dc3e0",
   "metadata": {},
   "outputs": [],
   "source": [
    "# Dane do raportu\n",
    "rap1 = pd.read_csv(r'c:\\Users\\pi35877\\Notebooks\\botosceptycy\\wynik\\Raport__kategorie_18-31_styczeń_2023.csv', encoding='utf-8', low_memory=False, sep=';')\n",
    "rap2 = pd.read_csv(r'c:\\Users\\pi35877\\Notebooks\\botosceptycy\\wynik\\Raport__kategorie_01-28_luty_2023.csv', encoding='utf-8', low_memory=False, sep=';')\n",
    "rap3 = pd.read_csv(r'c:\\Users\\pi35877\\Notebooks\\botosceptycy\\wynik\\Raport__kategorie_01-31_marzec_2023.csv', encoding='utf-8', low_memory=False, sep=';')\n",
    "rap4 = pd.read_csv(r'c:\\Users\\pi35877\\Notebooks\\botosceptycy\\wynik\\Raport__kategorie_01-20_kwiecień_2023.csv', encoding='utf-8', low_memory=False, sep=';')\n"
   ]
  },
  {
   "cell_type": "code",
   "execution_count": 4,
   "id": "88b59409-77fc-4a42-a633-bad9e90b2b7e",
   "metadata": {
    "tags": []
   },
   "outputs": [],
   "source": [
    "# df1.info()"
   ]
  },
  {
   "cell_type": "code",
   "execution_count": 5,
   "id": "69b59d64-78d5-483d-95ce-39c45b793d7d",
   "metadata": {
    "tags": []
   },
   "outputs": [],
   "source": [
    "# df1_sum = df1[\"Liczba wystąpień\"].sum()"
   ]
  },
  {
   "cell_type": "code",
   "execution_count": 6,
   "id": "d00f91f9-cf05-4e07-a1cf-f4e9a16f65ba",
   "metadata": {
    "tags": []
   },
   "outputs": [],
   "source": [
    "# df1_sum"
   ]
  },
  {
   "cell_type": "code",
   "execution_count": 7,
   "id": "0e92fa9d-0ad0-4456-8ebb-e8df0e15b48b",
   "metadata": {
    "tags": []
   },
   "outputs": [],
   "source": [
    "# df1_pct = df1[\"Liczba wystąpień\"]/df1_sum*100"
   ]
  },
  {
   "cell_type": "code",
   "execution_count": 8,
   "id": "b76042bc-d022-4293-a0d7-e28d0e5f5365",
   "metadata": {
    "tags": []
   },
   "outputs": [],
   "source": [
    "# df1_pct.head()"
   ]
  },
  {
   "cell_type": "code",
   "execution_count": 9,
   "id": "201851ec-f600-470d-a213-fbd55c7b7f9b",
   "metadata": {
    "tags": []
   },
   "outputs": [],
   "source": [
    "# len(df1)"
   ]
  },
  {
   "cell_type": "code",
   "execution_count": 10,
   "id": "eb38cacc-7281-428c-be50-88502eb715b9",
   "metadata": {
    "tags": []
   },
   "outputs": [],
   "source": [
    "# rap1.head()"
   ]
  },
  {
   "cell_type": "code",
   "execution_count": 11,
   "id": "5d03cb58-9e4a-40f7-a907-53dc8311435c",
   "metadata": {
    "tags": []
   },
   "outputs": [],
   "source": [
    "# len(rap1)"
   ]
  },
  {
   "cell_type": "code",
   "execution_count": 12,
   "id": "fd7fc8fd-493e-4739-b6fb-f463605eb7df",
   "metadata": {
    "tags": []
   },
   "outputs": [],
   "source": [
    "choices = {\n",
    "    '18-31 styczeń 2023': [df1,rap1],\n",
    "    '01-28 luty 2023': [df2,rap2],\n",
    "    '01-31 marzec 2023': [df3,rap3],\n",
    "    '01-20 kwiecień 2023': [df4,rap4]\n",
    "}"
   ]
  },
  {
   "cell_type": "code",
   "execution_count": 13,
   "id": "f38678f6-6cd1-44cd-9c00-264a4d157722",
   "metadata": {
    "tags": []
   },
   "outputs": [],
   "source": [
    "w1 = wg.Dropdown(\n",
    "    options=['18-31 styczeń 2023','01-28 luty 2023','01-31 marzec 2023','01-20 kwiecień 2023'],\n",
    "    value='18-31 styczeń 2023',\n",
    "    description='Raport: '\n",
    ")"
   ]
  },
  {
   "cell_type": "code",
   "execution_count": 14,
   "id": "41abe8cb",
   "metadata": {},
   "outputs": [],
   "source": [
    "# choices_2 = {\n",
    "#     'styczeń 2023': rap1,\n",
    "#     'luty 2023': rap2,\n",
    "#     'marzec 2023': rap3,\n",
    "#     'kwiecień 2023': rap4\n",
    "# }"
   ]
  },
  {
   "cell_type": "code",
   "execution_count": 15,
   "id": "abb43cbe",
   "metadata": {},
   "outputs": [],
   "source": [
    "# w2 = wg.Dropdown(\n",
    "#     options=['styczeń 2023','luty 2023','marzec 2023','kwiecień 2023'],\n",
    "#     value='styczeń 2023',\n",
    "#     description='Raport: '\n",
    "# )"
   ]
  },
  {
   "cell_type": "markdown",
   "id": "b76721b1",
   "metadata": {},
   "source": [
    "# <font size =15><b><center>Raport Botosceptycy</center></b></font>"
   ]
  },
  {
   "cell_type": "markdown",
   "id": "cbd35d7d-7d90-4597-87bb-58e2c7176f50",
   "metadata": {},
   "source": [
    "## Opis celu analizy:"
   ]
  },
  {
   "cell_type": "markdown",
   "id": "90288121-8271-4132-bdbb-439131aaae13",
   "metadata": {},
   "source": [
    "### Celem analizy danych jest prześledzenie na jaki temat chcieli rozmawiać klienci, których pierwszą intencją w rozmowie z botem było poproszenie o rozmowę z agentem. Dane są rozpatrywane w przedziałach miesięcznych."
   ]
  },
  {
   "cell_type": "code",
   "execution_count": 16,
   "id": "cfb76028-c8ac-4f00-9082-aa5022474ba2",
   "metadata": {
    "tags": []
   },
   "outputs": [
    {
     "data": {
      "application/vnd.jupyter.widget-view+json": {
       "model_id": "4bfa52a60b944a8894f1fec2862ed2d6",
       "version_major": 2,
       "version_minor": 0
      },
      "text/plain": [
       "interactive(children=(Dropdown(description='Raport: ', options=('18-31 styczeń 2023', '01-28 luty 2023', '01-3…"
      ]
     },
     "metadata": {},
     "output_type": "display_data"
    }
   ],
   "source": [
    "# Zdefiniowanie wykresu\n",
    "\n",
    "def myPlot(df_name):\n",
    "    df = choices[df_name][0]\n",
    "    df_DF = pd.DataFrame(df)\n",
    "    df_DF.index += 1\n",
    "    print(\" \")\n",
    "    print(\"Najczęściej występujące kategorie: \")\n",
    "    print(\"\")\n",
    "    print(df_DF.head(10)[[\"Kategoria\",\"Liczba wystąpień\"]])\n",
    "    print(\" \")\n",
    "    fig = plt.figure(figsize=(15,20));\n",
    "    sns.barplot(x='Liczba wystąpień', y='Kategoria', \n",
    "                data=df[0:19], \n",
    "                saturation = 0.80,\n",
    "                width = 0.4).set(xlabel=\"Liczba wystąpień\", ylabel='');\n",
    "    plt.title(\"Kategorie rozmów klienta z agentem po przekierowaniu od bota\", fontsize=25);\n",
    "    plt.show()\n",
    "    print(\" \")\n",
    "    rap = choices[df_name][1]\n",
    "    # print(rap)\n",
    "    rap_DF = pd.DataFrame(rap)\n",
    "    # print(df_DF)\n",
    "    raport = ProfileReport(rap_DF, title='Kategorie rozmów bez topicu przekierownych do agenta:', html={'style':{'full_width':True}})\n",
    "    return raport\n",
    "    \n",
    "# Wydruk z interaktywnym menu\n",
    "\n",
    "wg.interact(myPlot, df_name=w1);   "
   ]
  },
  {
   "cell_type": "code",
   "execution_count": 17,
   "id": "77785797-4242-4446-b629-0a05977e0e09",
   "metadata": {
    "tags": []
   },
   "outputs": [
    {
     "data": {
      "text/plain": [
       "<function __main__.render()>"
      ]
     },
     "execution_count": 17,
     "metadata": {},
     "output_type": "execute_result"
    }
   ],
   "source": [
    "out = wg.Output()\n",
    "\n",
    "@out.capture()\n",
    "def render():\n",
    "    display(IFrame(src=r'c:\\Users\\pi35877\\Notebooks\\botosceptycy\\wynik\\test2.html',width=700, height=600))\n",
    "    print(\"gotowe\")\n",
    "    \n",
    "render"
   ]
  },
  {
   "cell_type": "code",
   "execution_count": 18,
   "id": "cf477c3d-92be-4ea6-bf37-60c8efa71ba3",
   "metadata": {},
   "outputs": [],
   "source": [
    "# # Zdefiniowanie wykresu\n",
    "\n",
    "# def myPlot(df_name, rap_name):\n",
    "#     df = choices[df_name][0]\n",
    "#     df_DF = pd.DataFrame(df)\n",
    "#     df_DF.index += 1\n",
    "#     print(\" \")\n",
    "#     print(\"Najczęściej występujące kategorie: \")\n",
    "#     print(\"\")\n",
    "#     print(df_DF.head(10)[[\"Kategoria\",\"Liczba wystąpień\"]])\n",
    "#     print(\" \")\n",
    "#     fig = plt.figure(figsize=(15,35));\n",
    "#     sns.barplot(x='Liczba wystąpień', y='Kategoria', \n",
    "#                 data=df, \n",
    "#                 saturation = 0.80,\n",
    "#                 width = 0.6).set(xlabel=\"Liczba wystąpień\", ylabel='');\n",
    "#     plt.title(\"Kategorie rozmów bez topicu przekierowanych do agenta\", fontsize=20);\n",
    "#     plt.show()\n",
    "#     print(\" \")\n",
    "#     rap = choices[1][rap_name]\n",
    "#     print(rap)\n",
    "#     rap_DF = pd.DataFrame(rap)\n",
    "#     # print(df_DF)\n",
    "#     raport = ProfileReport(rap_DF, title='Kategorie rozmów bez topicu przekierownych do agenta:', html={'style':{'full_width':True}})\n",
    "#     return raport\n",
    "    \n",
    "# # Wydruk z interaktywnym menu\n",
    "\n",
    "# wg.interact(myPlot, df_name=w1, rap_name=w2); "
   ]
  },
  {
   "cell_type": "markdown",
   "id": "01b68adb",
   "metadata": {},
   "source": [
    "<!-- ## Raporty szczegółowe: -->"
   ]
  },
  {
   "cell_type": "markdown",
   "id": "6dc71ece",
   "metadata": {},
   "source": [
    "<!-- ### Styczeń 2023 R. -->"
   ]
  },
  {
   "cell_type": "code",
   "execution_count": 19,
   "id": "d9ec5535",
   "metadata": {},
   "outputs": [],
   "source": [
    "# print(\" \")"
   ]
  },
  {
   "cell_type": "code",
   "execution_count": 20,
   "id": "9e737d8d",
   "metadata": {},
   "outputs": [],
   "source": [
    "# raport_01 = ProfileReport(rap1, title='Kategorie rozmów bez topicu przekierownych do agenta od 18 do 31 stycznia 2023 r.', html={'style':{'full_width':True}})"
   ]
  },
  {
   "cell_type": "code",
   "execution_count": 21,
   "id": "650bc00e",
   "metadata": {},
   "outputs": [],
   "source": [
    "# raport_01"
   ]
  },
  {
   "cell_type": "code",
   "execution_count": 22,
   "id": "842e570e",
   "metadata": {},
   "outputs": [],
   "source": [
    "# print(\" \")"
   ]
  },
  {
   "cell_type": "markdown",
   "id": "c9bc2925",
   "metadata": {},
   "source": [
    "<!-- ### Luty 2023 R. -->"
   ]
  },
  {
   "cell_type": "code",
   "execution_count": 23,
   "id": "20483c0c",
   "metadata": {},
   "outputs": [],
   "source": [
    "# print(\" \")"
   ]
  },
  {
   "cell_type": "code",
   "execution_count": 24,
   "id": "64047c6d",
   "metadata": {},
   "outputs": [],
   "source": [
    "# raport_02 = ProfileReport(rap2, title='Kategorie rozmów bez topicu przekierownych do agenta od 01 do 28 lutego 2023 r.', html={'style':{'full_width':True}})"
   ]
  },
  {
   "cell_type": "code",
   "execution_count": 25,
   "id": "0728f469",
   "metadata": {},
   "outputs": [],
   "source": [
    "# raport_02"
   ]
  },
  {
   "cell_type": "code",
   "execution_count": 26,
   "id": "66c195d1",
   "metadata": {},
   "outputs": [
    {
     "name": "stdout",
     "output_type": "stream",
     "text": [
      " \n"
     ]
    }
   ],
   "source": [
    "print(\" \")"
   ]
  },
  {
   "cell_type": "markdown",
   "id": "a7d5580e",
   "metadata": {},
   "source": [
    "<!-- ### Marzec 2023 R. -->"
   ]
  },
  {
   "cell_type": "code",
   "execution_count": 27,
   "id": "d8f94651",
   "metadata": {},
   "outputs": [],
   "source": [
    "# print(\" \")"
   ]
  },
  {
   "cell_type": "code",
   "execution_count": 28,
   "id": "5f239676",
   "metadata": {},
   "outputs": [],
   "source": [
    "# raport_03 = ProfileReport(rap3, title='Kategorie rozmów bez topicu przekierownych do agenta od 01 do 31 marca 2023 r.', html={'style':{'full_width':True}})"
   ]
  },
  {
   "cell_type": "code",
   "execution_count": 29,
   "id": "8f63d4f6",
   "metadata": {},
   "outputs": [],
   "source": [
    "# raport_03"
   ]
  },
  {
   "cell_type": "code",
   "execution_count": 30,
   "id": "f8a1d162",
   "metadata": {},
   "outputs": [],
   "source": [
    "# print(\" \")"
   ]
  },
  {
   "cell_type": "markdown",
   "id": "fd949a86",
   "metadata": {},
   "source": [
    "<!-- ### Kwiecień 2023 R. -->"
   ]
  },
  {
   "cell_type": "code",
   "execution_count": 31,
   "id": "19a2a21a",
   "metadata": {},
   "outputs": [],
   "source": [
    "# print(\" \")"
   ]
  },
  {
   "cell_type": "code",
   "execution_count": 32,
   "id": "aab77141",
   "metadata": {},
   "outputs": [],
   "source": [
    "# raport_04 = ProfileReport(rap4, title='Kategorie rozmów bez topicu przekierownych do agenta od 01 do 20 kwietnia 2023 r.', html={'style':{'full_width':True}})"
   ]
  },
  {
   "cell_type": "code",
   "execution_count": 33,
   "id": "fa19d41b",
   "metadata": {},
   "outputs": [],
   "source": [
    "# raport_04"
   ]
  },
  {
   "cell_type": "code",
   "execution_count": 34,
   "id": "24186aca",
   "metadata": {},
   "outputs": [
    {
     "name": "stdout",
     "output_type": "stream",
     "text": [
      "Object `watermark` not found.\n",
      "Python implementation: CPython\n",
      "Python version       : 3.10.6\n",
      "IPython version      : 8.11.0\n",
      "\n",
      "ipywidgets     : 8.0.6\n",
      "pandas         : 1.5.3\n",
      "numpy          : 1.23.5\n",
      "matplotlib     : 3.6.3\n",
      "seaborn        : 0.12.2\n",
      "ydata_profiling: 4.1.2\n",
      "watermark      : 2.3.1\n",
      "IPython        : 8.11.0\n",
      "voila          : 0.4.0\n",
      "\n",
      "Compiler    : MSC v.1932 64 bit (AMD64)\n",
      "OS          : Windows\n",
      "Release     : 10\n",
      "Machine     : AMD64\n",
      "Processor   : Intel64 Family 6 Model 154 Stepping 4, GenuineIntel\n",
      "CPU cores   : 12\n",
      "Architecture: 64bit\n",
      "\n",
      " \n",
      "Last updated: Fri Apr 28 2023 07:47:31Środkowoeuropejski czas letni\n",
      "\n"
     ]
    }
   ],
   "source": [
    "# !pip install watermark?\n",
    "# import watermark\n",
    "# %load_ext watermark\n",
    "\n",
    "# # python, ipython, packages, and machine characteristics\n",
    "# %watermark -v -m -p ipywidgets,pandas,numpy,matplotlib,seaborn,ydata_profiling,watermark,IPython,voila\n",
    "\n",
    "# # date\n",
    "# print(\" \")\n",
    "# %watermark -u -n -t -z"
   ]
  },
  {
   "cell_type": "code",
   "execution_count": 39,
   "id": "ca103f9f-b8e6-45a0-9183-c7e8720758d6",
   "metadata": {},
   "outputs": [],
   "source": [
    "# voila('scripter_speech_voila_v4.ipynb')"
   ]
  },
  {
   "cell_type": "code",
   "execution_count": null,
   "id": "29d92b9f-4144-4ad9-a328-79877ac5a8c7",
   "metadata": {},
   "outputs": [],
   "source": []
  }
 ],
 "metadata": {
  "kernelspec": {
   "display_name": "Python 3 (ipykernel)",
   "language": "python",
   "name": "python3"
  },
  "language_info": {
   "codemirror_mode": {
    "name": "ipython",
    "version": 3
   },
   "file_extension": ".py",
   "mimetype": "text/x-python",
   "name": "python",
   "nbconvert_exporter": "python",
   "pygments_lexer": "ipython3",
   "version": "3.10.6"
  }
 },
 "nbformat": 4,
 "nbformat_minor": 5
}
